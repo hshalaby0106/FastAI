{
 "cells": [
  {
   "cell_type": "code",
   "execution_count": 2,
   "id": "77c420de-dff7-49d4-a36b-6312d39896b6",
   "metadata": {},
   "outputs": [],
   "source": [
    "from fastai.vision.all import *\n",
    "from fastai.vision.widgets import *\n",
    "from pathlib import Path\n"
   ]
  },
  {
   "cell_type": "code",
   "execution_count": 3,
   "id": "9eb701cb-232c-45d5-8aa7-479c7b97d65d",
   "metadata": {},
   "outputs": [],
   "source": [
    "path = Path()\n",
    "learn_inf = load_learner(path/'export.pkl', cpu=True)\n",
    "btn_upload = widgets.FileUpload()\n",
    "out_pl = widgets.Output()\n",
    "lbl_pred = widgets.Label()"
   ]
  },
  {
   "cell_type": "code",
   "execution_count": 4,
   "id": "229d5890-c901-40e5-8568-7493643c7468",
   "metadata": {},
   "outputs": [],
   "source": [
    "def on_data_change(change):\n",
    "    lbl_pred.value = ''\n",
    "    img = PILImage.create(btn_upload.data[-1])\n",
    "    out_pl.clear_output()\n",
    "    with out_pl: display(img.to_thumb(128,128))\n",
    "    pred,pred_idx,probs = learn_inf.predict(img)\n",
    "    lbl_pred.value = f'Prediction: {pred}; Probability: {probs[pred_idx]:.04f}'\n"
   ]
  },
  {
   "cell_type": "code",
   "execution_count": 5,
   "id": "e924271e-96f0-4b9b-83ae-0d34bf197652",
   "metadata": {},
   "outputs": [],
   "source": [
    "btn_upload.observe(on_data_change, names=['data'])\n"
   ]
  },
  {
   "cell_type": "code",
   "execution_count": 6,
   "id": "2e01cda2-18eb-457c-9b30-ecd759e250a0",
   "metadata": {},
   "outputs": [
    {
     "data": {
      "application/vnd.jupyter.widget-view+json": {
       "model_id": "b4c2635728274699bf3f4bbe38e80104",
       "version_major": 2,
       "version_minor": 0
      },
      "text/plain": [
       "VBox(children=(Label(value='Select your bear!'), FileUpload(value={}, description='Upload'), Output(), Label(v…"
      ]
     },
     "metadata": {},
     "output_type": "display_data"
    }
   ],
   "source": [
    "display(VBox([widgets.Label('Select your bear!'), btn_upload, out_pl, lbl_pred]))\n"
   ]
  },
  {
   "cell_type": "code",
   "execution_count": 7,
   "id": "b2c6b9c0-280a-44e5-9e69-81a1becee0ff",
   "metadata": {},
   "outputs": [
    {
     "name": "stdout",
     "output_type": "stream",
     "text": [
      "config:\n",
      "    /Users/habibashalaby/.jupyter\n",
      "    /Users/habibashalaby/Library/Python/3.9/etc/jupyter\n",
      "    /Library/Developer/CommandLineTools/Library/Frameworks/Python3.framework/Versions/3.9/etc/jupyter\n",
      "    /usr/local/etc/jupyter\n",
      "    /etc/jupyter\n",
      "data:\n",
      "    /Users/habibashalaby/Library/Jupyter\n",
      "    /Users/habibashalaby/Library/Python/3.9/share/jupyter\n",
      "    /Library/Developer/CommandLineTools/Library/Frameworks/Python3.framework/Versions/3.9/share/jupyter\n",
      "    /usr/local/share/jupyter\n",
      "    /usr/share/jupyter\n",
      "runtime:\n",
      "    /Users/habibashalaby/Library/Jupyter/runtime\n"
     ]
    }
   ],
   "source": [
    "!jupyter --paths\n"
   ]
  },
  {
   "cell_type": "code",
   "execution_count": 8,
   "id": "0bf2521c-e8e4-40fb-89ae-26bfc59dd901",
   "metadata": {},
   "outputs": [
    {
     "name": "stdout",
     "output_type": "stream",
     "text": [
      "Config dir: /Users/habibashalaby/.jupyter\n",
      "    voila \u001b[32menabled\u001b[0m\n",
      "    - Validating voila...\n",
      "Extension package voila took 0.1129s to import\n",
      "      voila 0.5.8 \u001b[32mOK\u001b[0m\n",
      "\n",
      "Config dir: /Library/Developer/CommandLineTools/Library/Frameworks/Python3.framework/Versions/3.9/etc/jupyter\n",
      "\n",
      "Config dir: /usr/local/etc/jupyter\n",
      "\n"
     ]
    }
   ],
   "source": [
    "!jupyter server extension list\n"
   ]
  },
  {
   "cell_type": "code",
   "execution_count": null,
   "id": "9f176dc4-dac3-4c39-aef4-2a48c22a20d7",
   "metadata": {},
   "outputs": [
    {
     "name": "stdout",
     "output_type": "stream",
     "text": [
      "[Voila] Using /var/folders/jk/nmfy1g991hl7ndc3rwr_yhk80000gn/T to store connection files\n",
      "[Voila] Storing connection files in /var/folders/jk/nmfy1g991hl7ndc3rwr_yhk80000gn/T/voila_uovehosl.\n",
      "[Voila] Serving static files from /Users/habibashalaby/Library/Python/3.9/lib/python/site-packages/voila/static.\n",
      "[Voila] The port 8866 is already in use, trying another port.\n",
      "[Voila] Voilà is running at:\n",
      "http://localhost:8867/\n",
      "404 GET /favicon.ico (::1) 0.82ms\n",
      "404 GET /api/kernels?1733807179343 (::1) 0.20ms\n"
     ]
    }
   ],
   "source": [
    "!voila\n"
   ]
  },
  {
   "cell_type": "code",
   "execution_count": null,
   "id": "19efaea8-7ac4-4e14-8136-61db565c71fb",
   "metadata": {},
   "outputs": [],
   "source": []
  }
 ],
 "metadata": {
  "kernelspec": {
   "display_name": "Python 3 (ipykernel)",
   "language": "python",
   "name": "python3"
  },
  "language_info": {
   "codemirror_mode": {
    "name": "ipython",
    "version": 3
   },
   "file_extension": ".py",
   "mimetype": "text/x-python",
   "name": "python",
   "nbconvert_exporter": "python",
   "pygments_lexer": "ipython3",
   "version": "3.9.6"
  }
 },
 "nbformat": 4,
 "nbformat_minor": 5
}
